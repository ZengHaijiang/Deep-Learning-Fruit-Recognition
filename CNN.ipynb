{
  "nbformat": 4,
  "nbformat_minor": 0,
  "metadata": {
    "colab": {
      "name": "Deep_Learning_Final.ipynb",
      "provenance": [],
      "collapsed_sections": []
    },
    "kernelspec": {
      "name": "python3",
      "display_name": "Python 3"
    },
    "language_info": {
      "name": "python"
    }
  },
  "cells": [
    {
      "cell_type": "code",
      "execution_count": 8,
      "metadata": {
        "colab": {
          "base_uri": "https://localhost:8080/"
        },
        "id": "dxfKM330L_Zk",
        "outputId": "d39e7a88-4a5e-486e-d663-0499d45df55d"
      },
      "outputs": [
        {
          "output_type": "stream",
          "name": "stdout",
          "text": [
            "Mounted at /content/drive\n"
          ]
        }
      ],
      "source": [
        "from google.colab import drive\n",
        "drive.mount('/content/drive',force_remount=True)"
      ]
    },
    {
      "cell_type": "code",
      "source": [
        "import os\n",
        "import pandas as pd\n",
        "import random\n",
        "path = \"/content/drive/MyDrive/Colab Notebooks/Final Project\""
      ],
      "metadata": {
        "id": "DjonjMz5OUWp"
      },
      "execution_count": 9,
      "outputs": []
    },
    {
      "cell_type": "code",
      "source": [
        "train_df=pd.read_csv(path+'/train_dataset.csv',usecols=[0,1])\n",
        "test_df=pd.read_csv(path+'/test_dataset.csv',usecols=[0,1])"
      ],
      "metadata": {
        "id": "FjmPBOtgVZzu"
      },
      "execution_count": 10,
      "outputs": []
    },
    {
      "cell_type": "code",
      "source": [
        "from  sklearn.model_selection  import  train_test_split\n",
        "train_df,  validation_df=train_test_split(train_df,train_size=0.8)\n",
        "print(train_df.shape,validation_df.shape,test_df.shape)\n"
      ],
      "metadata": {
        "id": "npuU5tiHm6GL",
        "colab": {
          "base_uri": "https://localhost:8080/"
        },
        "outputId": "cc3ea553-a6a8-421e-ea98-637992553851"
      },
      "execution_count": 11,
      "outputs": [
        {
          "output_type": "stream",
          "name": "stdout",
          "text": [
            "(12134, 2) (3034, 2) (1686, 2)\n"
          ]
        }
      ]
    },
    {
      "cell_type": "code",
      "source": [
        "train_df['path'].iloc[1]"
      ],
      "metadata": {
        "colab": {
          "base_uri": "https://localhost:8080/",
          "height": 35
        },
        "id": "PspTihUEqtCB",
        "outputId": "e62497ef-aeea-4ae3-8cc8-cf55dfe9640b"
      },
      "execution_count": 12,
      "outputs": [
        {
          "output_type": "execute_result",
          "data": {
            "application/vnd.google.colaboratory.intrinsic+json": {
              "type": "string"
            },
            "text/plain": [
              "'/content/drive/MyDrive/Colab Notebooks/Final Project/train/Potato Red/Potato Red_332.jpg'"
            ]
          },
          "metadata": {},
          "execution_count": 12
        }
      ]
    },
    {
      "cell_type": "code",
      "source": [
        "from PIL import Image\n",
        "Image.open(\"/content/drive/MyDrive/Colab Notebooks/Final Project/train/Cactus fruit/Cactus fruit_169.jpg\").mode"
      ],
      "metadata": {
        "colab": {
          "base_uri": "https://localhost:8080/",
          "height": 35
        },
        "id": "KETD_oXqDRaQ",
        "outputId": "9f23369d-716f-4503-e837-f7fac149064e"
      },
      "execution_count": 13,
      "outputs": [
        {
          "output_type": "execute_result",
          "data": {
            "application/vnd.google.colaboratory.intrinsic+json": {
              "type": "string"
            },
            "text/plain": [
              "'RGB'"
            ]
          },
          "metadata": {},
          "execution_count": 13
        }
      ]
    },
    {
      "cell_type": "code",
      "source": [
        "from  tensorflow.keras.preprocessing.image  import  ImageDataGenerator\n",
        "import  numpy  as  np\n",
        "#  Instantiate  ImageDataGenerator  class\n",
        "train_datagen  =  ImageDataGenerator(rescale=1./255)\n",
        "#  Configure  train  data  generator\n",
        "train_gen=train_datagen.flow_from_dataframe(\n",
        "        train_df,\n",
        "        x_col=\"path\",\n",
        "        y_col=\"category\",\n",
        "        target_size=(100, 100),\n",
        "        color_mode=\"rgb\",\n",
        "        class_mode=\"categorical\",\n",
        "        batch_size=32,\n",
        "        shuffle=True)\n",
        "\n",
        "#  Configure  validation  data  generator\n",
        "val_datagen  =  ImageDataGenerator(rescale=1./255)\n",
        "val_gen=val_datagen.flow_from_dataframe(\n",
        "        validation_df,\n",
        "        x_col=\"path\",\n",
        "        y_col=\"category\",\n",
        "        target_size=(100,  100),\n",
        "        color_mode=\"rgb\",\n",
        "        class_mode=\"categorical\",\n",
        "        )\n",
        "\n",
        "#  Configure  test  data  generator\n",
        "test_datagen  =  ImageDataGenerator(rescale=1./255)\n",
        "test_gen=test_datagen.flow_from_dataframe(\n",
        "        test_df,\n",
        "        x_col=\"path\",\n",
        "        y_col=\"category\",\n",
        "        target_size=(100,  100),\n",
        "        color_mode=\"rgb\",\n",
        "        class_mode=\"categorical\",\n",
        "        )"
      ],
      "metadata": {
        "colab": {
          "base_uri": "https://localhost:8080/"
        },
        "id": "aaA42VyhoAfn",
        "outputId": "b645e2b4-b909-43d2-c42d-30792f067958"
      },
      "execution_count": 14,
      "outputs": [
        {
          "output_type": "stream",
          "name": "stdout",
          "text": [
            "Found 12134 validated image filenames belonging to 33 classes.\n",
            "Found 3034 validated image filenames belonging to 33 classes.\n",
            "Found 1686 validated image filenames belonging to 33 classes.\n"
          ]
        }
      ]
    },
    {
      "cell_type": "markdown",
      "source": [
        "### Larger Convolution Model"
      ],
      "metadata": {
        "id": "KTTyto7tJZpK"
      }
    },
    {
      "cell_type": "code",
      "source": [
        "import tensorflow as tf\n",
        "from tensorflow import keras\n",
        "from tensorflow.keras.optimizers import RMSprop\n",
        "from tensorflow.keras.preprocessing.image import ImageDataGenerator\n",
        "import matplotlib.pyplot as plt"
      ],
      "metadata": {
        "id": "I1U-FvUaQehU"
      },
      "execution_count": 15,
      "outputs": []
    },
    {
      "cell_type": "code",
      "source": [
        "from tensorflow.keras.models import Sequential\n",
        "from tensorflow.keras.layers import Conv2D, Dense, Dropout, MaxPooling2D, Flatten\n",
        "from tensorflow.keras.callbacks import EarlyStopping, Callback\n",
        "\n",
        "# Build sequential model\n",
        "model=Sequential()\n",
        "model.add(Conv2D(33, (3,3),input_shape=(100,100,3),activation=\"relu\"))\n",
        "model.add(MaxPooling2D(2,2))\n",
        "model.add(Conv2D(66, (3,3),activation=\"relu\"))\n",
        "model.add(MaxPooling2D(2,2))\n",
        "model.add(Conv2D(99, (3,3),activation=\"relu\"))\n",
        "model.add(MaxPooling2D(2,2))\n",
        "model.add(Conv2D(66, (3,3),activation=\"relu\"))\n",
        "model.add(MaxPooling2D(2,2))\n",
        "model.add(Flatten())                                                      \n",
        "                  # Add Dropout layer, randomly drops 20% neurons from propagation.\n",
        "model.add(Dense(64,activation=\"relu\"))\n",
        "model.add(Dense(33,activation=\"softmax\"))\n",
        "\n",
        "model.compile(loss=\"categorical_crossentropy\",\n",
        "              optimizer=tf.keras.optimizers.RMSprop(learning_rate=0.001),\n",
        "              metrics=['acc'])"
      ],
      "metadata": {
        "id": "epWAh4K8YGFo"
      },
      "execution_count": 16,
      "outputs": []
    },
    {
      "cell_type": "code",
      "source": [
        "model.summary()"
      ],
      "metadata": {
        "colab": {
          "base_uri": "https://localhost:8080/"
        },
        "id": "0NGRsAROYGzy",
        "outputId": "e53b41f6-6a11-4996-e9de-d97ab7244813"
      },
      "execution_count": 17,
      "outputs": [
        {
          "output_type": "stream",
          "name": "stdout",
          "text": [
            "Model: \"sequential\"\n",
            "_________________________________________________________________\n",
            " Layer (type)                Output Shape              Param #   \n",
            "=================================================================\n",
            " conv2d (Conv2D)             (None, 98, 98, 33)        924       \n",
            "                                                                 \n",
            " max_pooling2d (MaxPooling2D  (None, 49, 49, 33)       0         \n",
            " )                                                               \n",
            "                                                                 \n",
            " conv2d_1 (Conv2D)           (None, 47, 47, 66)        19668     \n",
            "                                                                 \n",
            " max_pooling2d_1 (MaxPooling  (None, 23, 23, 66)       0         \n",
            " 2D)                                                             \n",
            "                                                                 \n",
            " conv2d_2 (Conv2D)           (None, 21, 21, 99)        58905     \n",
            "                                                                 \n",
            " max_pooling2d_2 (MaxPooling  (None, 10, 10, 99)       0         \n",
            " 2D)                                                             \n",
            "                                                                 \n",
            " conv2d_3 (Conv2D)           (None, 8, 8, 66)          58872     \n",
            "                                                                 \n",
            " max_pooling2d_3 (MaxPooling  (None, 4, 4, 66)         0         \n",
            " 2D)                                                             \n",
            "                                                                 \n",
            " flatten (Flatten)           (None, 1056)              0         \n",
            "                                                                 \n",
            " dense (Dense)               (None, 64)                67648     \n",
            "                                                                 \n",
            " dense_1 (Dense)             (None, 33)                2145      \n",
            "                                                                 \n",
            "=================================================================\n",
            "Total params: 208,162\n",
            "Trainable params: 208,162\n",
            "Non-trainable params: 0\n",
            "_________________________________________________________________\n"
          ]
        }
      ]
    },
    {
      "cell_type": "code",
      "source": [
        "from tensorflow.keras.models import Sequential\n",
        "from tensorflow.keras.layers import Conv2D, Dense, Dropout, MaxPooling2D, Flatten\n",
        "from tensorflow.keras.callbacks import EarlyStopping, Callback\n",
        "\n",
        "# Build sequential model\n",
        "model=Sequential()\n",
        "model.add(Conv2D(33, (3,3),input_shape=(100,100,3),activation=\"relu\"))\n",
        "model.add(MaxPooling2D(2,2))\n",
        "model.add(Conv2D(66, (3,3),activation=\"relu\"))\n",
        "model.add(MaxPooling2D(2,2))\n",
        "model.add(Conv2D(99, (3,3),activation=\"relu\"))\n",
        "model.add(MaxPooling2D(2,2))\n",
        "model.add(Conv2D(66, (3,3),activation=\"relu\"))\n",
        "model.add(MaxPooling2D(2,2))\n",
        "model.add(Flatten())                                                      \n",
        "                  # Add Dropout layer, randomly drops 20% neurons from propagation.\n",
        "model.add(Dense(64,activation=\"relu\"))\n",
        "model.add(Dense(33,activation=\"softmax\"))\n",
        "\n",
        "model.compile(loss=\"categorical_crossentropy\",\n",
        "              optimizer=tf.keras.optimizers.RMSprop(learning_rate=0.001),\n",
        "              metrics=['acc'])\n",
        "\n",
        "# Configure EarlyStopping object\n",
        "Es=EarlyStopping(monitor='val_loss', patience=2, restore_best_weights=True)      # EarlyStopping with patience 2: if in 2 consecutive epochs, the validation loss didn't hit the record, training will stop.\n",
        "\n",
        "# Fit the model and record the training history for plotting purpose\n",
        "history=model.fit(train_gen,\n",
        "      steps_per_epoch=180, #train_gen.n//train_gen.batch_size\n",
        "      epochs=5,\n",
        "      validation_data=val_gen,\n",
        "      validation_steps=50, #val_gen.n//val_gen.batch_size\n",
        "      callbacks=[Es])                                                           # Here is how we use EarlyStopping"
      ],
      "metadata": {
        "colab": {
          "base_uri": "https://localhost:8080/"
        },
        "id": "MlhSa-kkopDV",
        "outputId": "e0a93b32-a1aa-474a-c19d-ebce2ab73d62"
      },
      "execution_count": 75,
      "outputs": [
        {
          "output_type": "stream",
          "name": "stdout",
          "text": [
            "Epoch 1/5\n",
            "180/180 [==============================] - 3138s 17s/step - loss: 1.4014 - acc: 0.5912 - val_loss: 0.1658 - val_acc: 0.9544\n",
            "Epoch 2/5\n",
            "180/180 [==============================] - 1592s 9s/step - loss: 0.2618 - acc: 0.9236 - val_loss: 0.1391 - val_acc: 0.9544\n",
            "Epoch 3/5\n",
            "180/180 [==============================] - 838s 5s/step - loss: 0.1179 - acc: 0.9677 - val_loss: 1.3838 - val_acc: 0.7337\n",
            "Epoch 4/5\n",
            "180/180 [==============================] - 436s 2s/step - loss: 0.0936 - acc: 0.9774 - val_loss: 0.0071 - val_acc: 0.9981\n",
            "Epoch 5/5\n",
            "180/180 [==============================] - 243s 1s/step - loss: 0.0620 - acc: 0.9847 - val_loss: 0.0034 - val_acc: 0.9994\n"
          ]
        }
      ]
    },
    {
      "cell_type": "code",
      "source": [
        "# Plot history\n",
        "import matplotlib.pyplot as plt\n",
        "plt.plot([0.5912,0.9236,0.9677,0.9774,0.9847], color='b',label='Training Set')\n",
        "plt.plot([0.9544,0.9544,0.7337,0.9981,0.9994], color='g',label='Validation Set')\n",
        "plt.xlabel(\"Epochs\")\n",
        "plt.ylabel(\"Accuracy\")\n",
        "plt.title(\"Train and Validation Accuracy\")\n",
        "plt.legend()\n",
        "plt.grid()\n",
        "plt.show()"
      ],
      "metadata": {
        "id": "MdOvzg7JsRqj",
        "colab": {
          "base_uri": "https://localhost:8080/",
          "height": 295
        },
        "outputId": "ef4ddbde-f995-42fb-9b61-53911b2a08d1"
      },
      "execution_count": 18,
      "outputs": [
        {
          "output_type": "display_data",
          "data": {
            "image/png": "[encoded data removed]",
            "text/plain": [
              "<Figure size 432x288 with 1 Axes>"
            ]
          },
          "metadata": {
            "needs_background": "light"
          }
        }
      ]
    }
  ]
}